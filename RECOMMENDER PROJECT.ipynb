{
 "cells": [
  {
   "cell_type": "code",
   "execution_count": 7,
   "id": "bc648e52-ccd9-4c9a-adc0-a17638c964a0",
   "metadata": {},
   "outputs": [
    {
     "name": "stdout",
     "output_type": "stream",
     "text": [
      "Defaulting to user installation because normal site-packages is not writeable\n",
      "Requirement already satisfied: pandas in c:\\programdata\\anaconda3\\lib\\site-packages (2.1.4)\n",
      "Requirement already satisfied: numpy in c:\\programdata\\anaconda3\\lib\\site-packages (1.26.4)\n",
      "Requirement already satisfied: scikit-learn in c:\\programdata\\anaconda3\\lib\\site-packages (1.2.2)\n",
      "Requirement already satisfied: python-dateutil>=2.8.2 in c:\\programdata\\anaconda3\\lib\\site-packages (from pandas) (2.8.2)\n",
      "Requirement already satisfied: pytz>=2020.1 in c:\\programdata\\anaconda3\\lib\\site-packages (from pandas) (2023.3.post1)\n",
      "Requirement already satisfied: tzdata>=2022.1 in c:\\programdata\\anaconda3\\lib\\site-packages (from pandas) (2023.3)\n",
      "Requirement already satisfied: scipy>=1.3.2 in c:\\programdata\\anaconda3\\lib\\site-packages (from scikit-learn) (1.11.4)\n",
      "Requirement already satisfied: joblib>=1.1.1 in c:\\programdata\\anaconda3\\lib\\site-packages (from scikit-learn) (1.2.0)\n",
      "Requirement already satisfied: threadpoolctl>=2.0.0 in c:\\programdata\\anaconda3\\lib\\site-packages (from scikit-learn) (2.2.0)\n",
      "Requirement already satisfied: six>=1.5 in c:\\programdata\\anaconda3\\lib\\site-packages (from python-dateutil>=2.8.2->pandas) (1.16.0)\n"
     ]
    }
   ],
   "source": [
    "get_ipython().system('pip install pandas numpy scikit-learn')"
   ]
  },
  {
   "cell_type": "code",
   "execution_count": 8,
   "id": "cafbced1-8865-4979-a349-cd2e5ce1324e",
   "metadata": {},
   "outputs": [],
   "source": [
    "# Importing necessary libraries\n",
    "import pandas as pd\n",
    "from sklearn.decomposition import TruncatedSVD\n",
    "from sklearn.metrics.pairwise import cosine_similarity\n",
    "from sklearn.metrics import mean_squared_error, precision_score, recall_score, f1_score\n",
    "import numpy as np"
   ]
  },
  {
   "cell_type": "code",
   "execution_count": 18,
   "id": "215a6356-54ad-4966-83a1-fe1cf6ba5e43",
   "metadata": {},
   "outputs": [],
   "source": [
    "import pandas as pd\n",
    "\n",
    "# Define file paths as strings\n",
    "transactions_file = \"D:\\\\RAJAT\\\\Recommnder\\\\Transactions.csv\"\n",
    "customer_file = \"D:\\\\RAJAT\\\\Recommnder\\\\Customer.csv\"\n",
    "prod_cat_file = \"D:\\\\RAJAT\\\\Recommnder\\\\prod_cat_info.csv\"\n",
    "\n",
    "# Read the CSV files into DataFrames\n",
    "transactions_df = pd.read_csv(transactions_file)\n",
    "customer_df = pd.read_csv(customer_file)\n",
    "prod_cat_info_df = pd.read_csv(prod_cat_file)\n"
   ]
  },
  {
   "cell_type": "code",
   "execution_count": 19,
   "id": "9491215d-6210-4d43-a1e7-9afa4efff751",
   "metadata": {},
   "outputs": [],
   "source": [
    "# Merging the dataframes\n",
    "merged_df = pd.merge(transactions_df, prod_cat_info_df, how='left', left_on=['prod_cat_code', 'prod_subcat_code'], right_on=['prod_cat_code', 'prod_sub_cat_code'])\n",
    "final_df = pd.merge(merged_df, customer_df, how='left', left_on='cust_id', right_on='customer_Id')\n"
   ]
  },
  {
   "cell_type": "code",
   "execution_count": 20,
   "id": "d1572f7c-1bf9-4ac3-a824-02d29392b615",
   "metadata": {},
   "outputs": [],
   "source": [
    "\n",
    "# Handling missing values\n",
    "final_df['Gender'].fillna(final_df['Gender'].mode()[0], inplace=True)\n",
    "final_df['city_code'].fillna(final_df['city_code'].mode()[0], inplace=True)"
   ]
  },
  {
   "cell_type": "code",
   "execution_count": 21,
   "id": "cdd6a557-1fd3-4c3b-ac79-be9c357e1ae3",
   "metadata": {},
   "outputs": [],
   "source": [
    "# Converting 'tran_date' and 'DOB' to datetime\n",
    "final_df['tran_date'] = pd.to_datetime(final_df['tran_date'], format='%d-%m-%Y', errors='coerce')\n",
    "final_df['DOB'] = pd.to_datetime(final_df['DOB'], format='%d-%m-%Y', errors='coerce')\n",
    "\n"
   ]
  },
  {
   "cell_type": "code",
   "execution_count": 22,
   "id": "120835d4-b97e-4a28-b5f2-8e458eaabb0c",
   "metadata": {},
   "outputs": [],
   "source": [
    "# Feature Engineering\n",
    "current_year = pd.Timestamp.now().year\n",
    "final_df['age'] = current_year - final_df['DOB'].dt.year\n",
    "customer_spending = final_df.groupby('cust_id')['total_amt'].sum().reset_index()\n",
    "customer_spending.columns = ['cust_id', 'total_spent']\n",
    "final_df = pd.merge(final_df, customer_spending, on='cust_id', how='left')"
   ]
  },
  {
   "cell_type": "code",
   "execution_count": 23,
   "id": "c0848483-0549-4a1b-941a-48a3a9f406ce",
   "metadata": {},
   "outputs": [],
   "source": [
    "\n",
    "# Collaborative Filtering using TruncatedSVD\n",
    "user_item_matrix = final_df.pivot_table(index='cust_id', columns='prod_cat_code', values='total_amt', fill_value=0)\n"
   ]
  },
  {
   "cell_type": "code",
   "execution_count": 24,
   "id": "a7d4ee01-f3f9-4998-b262-a89e1c41dd68",
   "metadata": {},
   "outputs": [
    {
     "name": "stdout",
     "output_type": "stream",
     "text": [
      "Number of features (columns) in the user-item matrix: 6\n"
     ]
    }
   ],
   "source": [
    "# Checking the number of features (columns) in the user-item matrix\n",
    "num_features = user_item_matrix.shape[1]\n",
    "print(f'Number of features (columns) in the user-item matrix: {num_features}')\n"
   ]
  },
  {
   "cell_type": "code",
   "execution_count": 25,
   "id": "9a62aaa5-32e8-4fc4-9fe2-283aeb8f5110",
   "metadata": {},
   "outputs": [
    {
     "name": "stdout",
     "output_type": "stream",
     "text": [
      "Number of components for TruncatedSVD: 6\n"
     ]
    }
   ],
   "source": [
    "# Set n_components to a value less than or equal to the number of features\n",
    "n_components = min(20, num_features)\n",
    "print(f'Number of components for TruncatedSVD: {n_components}')"
   ]
  },
  {
   "cell_type": "code",
   "execution_count": 26,
   "id": "44b45ee9-6200-46e1-a80b-f1e63c8b40a0",
   "metadata": {},
   "outputs": [],
   "source": [
    "# Applying matrix factorization\n",
    "svd = TruncatedSVD(n_components=n_components, random_state=42)\n",
    "matrix = svd.fit_transform(user_item_matrix)\n",
    "reconstructed_matrix = np.dot(matrix, svd.components_)\n"
   ]
  },
  {
   "cell_type": "code",
   "execution_count": 27,
   "id": "e1b81348-3359-4263-b29a-c2d1528d38be",
   "metadata": {},
   "outputs": [
    {
     "name": "stdout",
     "output_type": "stream",
     "text": [
      "RMSE: 9.21586742985565e-13\n"
     ]
    }
   ],
   "source": [
    "# Evaluating the model using RMSE\n",
    "mse = mean_squared_error(user_item_matrix, reconstructed_matrix)\n",
    "rmse = np.sqrt(mse)\n",
    "print(f'RMSE: {rmse}')"
   ]
  },
  {
   "cell_type": "code",
   "execution_count": 28,
   "id": "91e32bdf-5aee-4f0b-ae9a-c86a042ff47e",
   "metadata": {},
   "outputs": [],
   "source": [
    "# Function to generate recommendations\n",
    "def get_top_n_recommendations(user_id, user_item_matrix, reconstructed_matrix, n=10):\n",
    "    user_idx = user_item_matrix.index.get_loc(user_id)\n",
    "    user_ratings = reconstructed_matrix[user_idx]\n",
    "    top_indices = user_ratings.argsort()[::-1][:n]\n",
    "    top_items = user_item_matrix.columns[top_indices]\n",
    "    return top_items\n"
   ]
  },
  {
   "cell_type": "code",
   "execution_count": 29,
   "id": "aee56405-a64a-4073-adb8-b11de99ac2cf",
   "metadata": {},
   "outputs": [
    {
     "name": "stdout",
     "output_type": "stream",
     "text": [
      "Top N Recommendations for user_id 270351: Index([3, 2, 5, 4, 6, 1], dtype='int64', name='prod_cat_code')\n"
     ]
    }
   ],
   "source": [
    "user_id = 270351\n",
    "recommendations = get_top_n_recommendations(user_id, user_item_matrix, reconstructed_matrix)\n",
    "print(\"Top N Recommendations for user_id {}: {}\".format(user_id, recommendations))"
   ]
  },
  {
   "cell_type": "code",
   "execution_count": 30,
   "id": "c6a3b1e3-97fd-4256-aa05-cf4c1c947525",
   "metadata": {},
   "outputs": [],
   "source": [
    "# Mapping product category codes to product names (assuming prod_cat_info_df contains this information)\n",
    "prod_cat_info_df.set_index('prod_cat_code', inplace=True)\n",
    "prod_cat_info = prod_cat_info_df['prod_cat'].to_dict()\n"
   ]
  },
  {
   "cell_type": "code",
   "execution_count": 31,
   "id": "eeaaa2a0-53d2-4608-94d3-f75a4619a834",
   "metadata": {},
   "outputs": [
    {
     "name": "stdout",
     "output_type": "stream",
     "text": [
      "Collaborative Filtering Recommendations for user_id 270351: ['Electronics', 'Footwear', 'Books', 'Bags', 'Home and kitchen', 'Clothing']\n"
     ]
    }
   ],
   "source": [
    "# Got product names for collaborative filtering recommendations\n",
    "collab_recommendations = [prod_cat_info[code] for code in recommendations]\n",
    "print(f\"Collaborative Filtering Recommendations for user_id {user_id}: {collab_recommendations}\")\n",
    "\n"
   ]
  },
  {
   "cell_type": "code",
   "execution_count": 32,
   "id": "d4e63108-4ba8-4fbc-b92e-1ae33705fb00",
   "metadata": {},
   "outputs": [],
   "source": [
    "# Content-Based Filtering using Cosine Similarity\n",
    "cosine_sim = cosine_similarity(user_item_matrix)\n",
    "\n",
    "# Function to recommend items based on similarity\n",
    "def recommend_items(user_id, num_recommendations=10):\n",
    "    user_index = user_item_matrix.index.get_loc(user_id)\n",
    "    similarity_scores = list(enumerate(cosine_sim[user_index]))\n",
    "    similarity_scores = sorted(similarity_scores, key=lambda x: x[1], reverse=True)\n",
    "    top_indices = [x[0] for x in similarity_scores[1:num_recommendations+1]]\n",
    "    return user_item_matrix.index[top_indices]\n"
   ]
  },
  {
   "cell_type": "code",
   "execution_count": 33,
   "id": "916e3e0f-af16-4997-80fa-92b2027cab53",
   "metadata": {},
   "outputs": [
    {
     "name": "stdout",
     "output_type": "stream",
     "text": [
      "Content-Based Similar Users for user_id 270351: Index([274483, 272437, 270261, 270496, 274119, 274355, 273906, 274079, 272438,\n",
      "       275241],\n",
      "      dtype='int64', name='cust_id')\n"
     ]
    }
   ],
   "source": [
    "\n",
    "# Example usage of content-based filtering\n",
    "similar_users = recommend_items(user_id)\n",
    "print(\"Content-Based Similar Users for user_id {}: {}\".format(user_id, similar_users))"
   ]
  },
  {
   "cell_type": "code",
   "execution_count": 34,
   "id": "54ced7e5-e278-41f1-8445-3360185d66f9",
   "metadata": {},
   "outputs": [],
   "source": [
    "# Retrieving products interacted with by similar customers\n",
    "def get_products_for_similar_users(similar_users, final_df, prod_cat_info, top_n=10):\n",
    "    similar_user_data = final_df[final_df['cust_id'].isin(similar_users)]\n",
    "    top_products = similar_user_data.groupby('prod_cat_code').sum(numeric_only=True)['total_amt'].sort_values(ascending=False).head(top_n)\n",
    "    return top_products.index.map(prod_cat_info).tolist()"
   ]
  },
  {
   "cell_type": "code",
   "execution_count": 35,
   "id": "3c8a17ef-358f-4167-8334-17978be69d22",
   "metadata": {},
   "outputs": [
    {
     "name": "stdout",
     "output_type": "stream",
     "text": [
      "Content-Based Recommendations for user_id 270351: ['Electronics', 'Books', 'Footwear', 'Clothing', 'Bags']\n"
     ]
    }
   ],
   "source": [
    "content_based_recommendations = get_products_for_similar_users(similar_users, final_df, prod_cat_info)\n",
    "print(f\"Content-Based Recommendations for user_id {user_id}: {content_based_recommendations}\")\n",
    "\n"
   ]
  },
  {
   "cell_type": "code",
   "execution_count": 36,
   "id": "409e30a5-e5e3-4df0-93f5-163431017f84",
   "metadata": {},
   "outputs": [],
   "source": [
    "# Evaluation Metrics: Precision, Recall, F1-score, MAP\n",
    "def evaluate_recommender_system(true_data, predicted_data, top_n=10):\n",
    "    true_data_binary = true_data > 0\n",
    "    predicted_data_binary = predicted_data > 0\n",
    "\n",
    "    precision = precision_score(true_data_binary, predicted_data_binary, average='macro')\n",
    "    recall = recall_score(true_data_binary, predicted_data_binary, average='macro')\n",
    "    f1 = f1_score(true_data_binary, predicted_data_binary, average='macro')\n",
    "\n"
   ]
  },
  {
   "cell_type": "code",
   "execution_count": 44,
   "id": "a098379f-3bb5-44f7-99dc-fe4b7e0661ce",
   "metadata": {},
   "outputs": [],
   "source": [
    "def apk(actual, predicted, k=10):\n",
    "    \"\"\"\n",
    "    Computes the average precision at k.\n",
    "    \"\"\"\n",
    "    if len(predicted) > k:\n",
    "        predicted = predicted[:k]\n",
    "\n",
    "    score = 0.0\n",
    "    num_hits = 0.0\n",
    "\n",
    "    for i, p in enumerate(predicted):\n",
    "        if p in actual and p not in predicted[:i]:\n",
    "            num_hits += 1.0\n",
    "            score += num_hits / (i + 1.0)\n",
    "\n",
    "    if not actual:\n",
    "        return 0.0\n",
    "\n",
    "    return score / min(len(actual), k)\n",
    "\n",
    "def mapk(actual, predicted, k=10):\n",
    "    \"\"\"\n",
    "    Computes the mean average precision at k.\n",
    "    \"\"\"\n",
    "    return sum([apk(a, p, k) for a, p in zip(actual, predicted)]) / len(actual)\n"
   ]
  },
  {
   "cell_type": "code",
   "execution_count": 45,
   "id": "33a28922-c77c-4bd7-a0a2-57d9868370a8",
   "metadata": {},
   "outputs": [],
   "source": [
    "# Spliting data into training and test sets\n",
    "train_ratio = 0.8\n",
    "train_size = int(len(user_item_matrix) * train_ratio)\n",
    "train_data = user_item_matrix.iloc[:train_size]\n",
    "test_data = user_item_matrix.iloc[train_size:]"
   ]
  },
  {
   "cell_type": "code",
   "execution_count": 46,
   "id": "4e4b4bf6-7019-4a5f-bca4-8e487f37dbc2",
   "metadata": {},
   "outputs": [],
   "source": [
    "# Spliting data into training and test sets\n",
    "train_ratio = 0.8\n",
    "train_size = int(len(user_item_matrix) * train_ratio)\n",
    "train_data = user_item_matrix.iloc[:train_size]\n",
    "test_data = user_item_matrix.iloc[train_size:]\n"
   ]
  },
  {
   "cell_type": "code",
   "execution_count": 47,
   "id": "8a2a6fb9-b753-48cf-8b85-19b5d021c2e1",
   "metadata": {},
   "outputs": [],
   "source": [
    "# Training the model on the training set\n",
    "train_matrix = svd.fit_transform(train_data)\n",
    "reconstructed_train_matrix = np.dot(train_matrix, svd.components_)"
   ]
  },
  {
   "cell_type": "code",
   "execution_count": 48,
   "id": "28ccb63c-a6c7-435f-8ae2-ab1e30cbd626",
   "metadata": {},
   "outputs": [],
   "source": [
    "# Evaluating the model on the test set\n",
    "test_matrix = svd.transform(test_data)\n",
    "reconstructed_test_matrix = np.dot(test_matrix, svd.components_)"
   ]
  },
  {
   "cell_type": "code",
   "execution_count": 50,
   "id": "276e50a6-a31a-4a2e-aa17-27ba4137fbcf",
   "metadata": {},
   "outputs": [],
   "source": [
    "def evaluate_recommender_system(test_data, reconstructed_test_matrix):\n",
    "    # Example logic for calculating metrics\n",
    "    precision = ...  # Calculate precision\n",
    "    recall = ...     # Calculate recall\n",
    "    f1 = ...         # Calculate F1 score\n",
    "    map_score = ...  # Calculate MAP score\n",
    "\n",
    "    # Return a tuple with the calculated metrics\n",
    "    return precision, recall, f1, map_score\n",
    "precision, recall, f1, map_score = evaluate_recommender_system(test_data, reconstructed_test_matrix)\n"
   ]
  },
  {
   "cell_type": "code",
   "execution_count": 51,
   "id": "57f17539-1e43-4f2a-a4b1-fc3b4a6125da",
   "metadata": {},
   "outputs": [
    {
     "name": "stdout",
     "output_type": "stream",
     "text": [
      "Precision: Ellipsis\n",
      "Recall: Ellipsis\n",
      "F1-score: Ellipsis\n",
      "Mean Average Precision (MAP): Ellipsis\n"
     ]
    }
   ],
   "source": [
    "print(f\"Precision: {precision}\")\n",
    "print(f\"Recall: {recall}\")\n",
    "print(f\"F1-score: {f1}\")\n",
    "print(f\"Mean Average Precision (MAP): {map_score}\")"
   ]
  },
  {
   "cell_type": "code",
   "execution_count": 52,
   "id": "472d1fc6-690c-4e36-98db-3fe61ba2a9b0",
   "metadata": {},
   "outputs": [
    {
     "name": "stdout",
     "output_type": "stream",
     "text": [
      "Recommendation Accuracy: 1.0\n"
     ]
    }
   ],
   "source": [
    "# Calculating Recommendation Accuracy\n",
    "def calculate_accuracy(test_data, reconstructed_test_matrix, top_n=10):\n",
    "    hits = 0\n",
    "    total = 0\n",
    "    for i, user in enumerate(test_data.index):\n",
    "        actual_items = np.nonzero(test_data.loc[user].values)[0]\n",
    "        recommended_items = np.argsort(reconstructed_test_matrix[i])[::-1][:top_n]\n",
    "        hits += len(set(actual_items) & set(recommended_items))\n",
    "        total += len(actual_items)\n",
    "    accuracy = hits / total if total > 0 else 0\n",
    "    return accuracy\n",
    "\n",
    "accuracy = calculate_accuracy(test_data, reconstructed_test_matrix)\n",
    "print(f\"Recommendation Accuracy: {accuracy}\")\n"
   ]
  },
  {
   "cell_type": "code",
   "execution_count": 53,
   "id": "5d21c39f-2f41-4d46-96ee-7d4402d7fa42",
   "metadata": {},
   "outputs": [
    {
     "name": "stdout",
     "output_type": "stream",
     "text": [
      "The recommender system meets the accuracy requirement of 80% or higher.\n"
     ]
    }
   ],
   "source": [
    "# Checking if accuracy meets the requirement\n",
    "if accuracy >= 0.8:\n",
    "    print(\"The recommender system meets the accuracy requirement of 80% or higher.\")\n",
    "else:\n",
    "    print(\"The recommender system does not meet the accuracy requirement of 80% or higher.\")\n"
   ]
  },
  {
   "cell_type": "code",
   "execution_count": null,
   "id": "99a21834-b86f-452a-86a1-b4422abb8263",
   "metadata": {},
   "outputs": [],
   "source": []
  }
 ],
 "metadata": {
  "kernelspec": {
   "display_name": "Python 3 (ipykernel)",
   "language": "python",
   "name": "python3"
  },
  "language_info": {
   "codemirror_mode": {
    "name": "ipython",
    "version": 3
   },
   "file_extension": ".py",
   "mimetype": "text/x-python",
   "name": "python",
   "nbconvert_exporter": "python",
   "pygments_lexer": "ipython3",
   "version": "3.11.7"
  }
 },
 "nbformat": 4,
 "nbformat_minor": 5
}
